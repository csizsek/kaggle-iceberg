{
 "cells": [
  {
   "cell_type": "code",
   "execution_count": 1,
   "metadata": {},
   "outputs": [
    {
     "name": "stderr",
     "output_type": "stream",
     "text": [
      "Using TensorFlow backend.\n",
      "/usr/local/lib/python2.7/dist-packages/sklearn/cross_validation.py:44: DeprecationWarning: This module was deprecated in version 0.18 in favor of the model_selection module into which all the refactored classes and functions are moved. Also note that the interface of the new CV iterators are different from that of this module. This module will be removed in 0.20.\n",
      "  \"This module will be removed in 0.20.\", DeprecationWarning)\n",
      "/usr/local/lib/python2.7/dist-packages/sklearn/grid_search.py:43: DeprecationWarning: This module was deprecated in version 0.18 in favor of the model_selection module into which all the refactored classes and functions are moved. This module will be removed in 0.20.\n",
      "  DeprecationWarning)\n",
      "/usr/local/lib/python2.7/dist-packages/sklearn/lda.py:6: DeprecationWarning: lda.LDA has been moved to discriminant_analysis.LinearDiscriminantAnalysis in 0.17 and will be removed in 0.19\n",
      "  \"in 0.17 and will be removed in 0.19\", DeprecationWarning)\n",
      "/usr/local/lib/python2.7/dist-packages/sklearn/learning_curve.py:23: DeprecationWarning: This module was deprecated in version 0.18 in favor of the model_selection module into which all the functions are moved. This module will be removed in 0.20\n",
      "  DeprecationWarning)\n",
      "/usr/local/lib/python2.7/dist-packages/sklearn/qda.py:6: DeprecationWarning: qda.QDA has been moved to discriminant_analysis.QuadraticDiscriminantAnalysis in 0.17 and will be removed in 0.19.\n",
      "  \"in 0.17 and will be removed in 0.19.\", DeprecationWarning)\n"
     ]
    }
   ],
   "source": [
    "import base64\n",
    "import collections\n",
    "import copy\n",
    "import cProfile\n",
    "import datetime\n",
    "import gc\n",
    "import itertools\n",
    "import json\n",
    "import math\n",
    "import os\n",
    "import operator\n",
    "import pickle\n",
    "import random\n",
    "import re\n",
    "import shutil\n",
    "import sys\n",
    "import time\n",
    "\n",
    "import bokeh\n",
    "import cv2\n",
    "import hyperopt\n",
    "import Image\n",
    "import keras\n",
    "from keras import *\n",
    "from keras import backend as K\n",
    "from keras.preprocessing import image\n",
    "from keras.preprocessing.image import ImageDataGenerator\n",
    "import matplotlib as mpl\n",
    "import matplotlib.pyplot as plt\n",
    "import numpy as np\n",
    "import pandas as pd\n",
    "import PIL as pil\n",
    "import prophet\n",
    "import pyflux\n",
    "import pylab\n",
    "import scipy\n",
    "from scipy import signal\n",
    "import seaborn as sns\n",
    "import skimage\n",
    "import sklearn\n",
    "from sklearn import *\n",
    "import statsmodels as sm\n",
    "import tensorflow as tf\n",
    "import tqdm\n",
    "\n",
    "np.random.seed(1337)\n",
    "\n",
    "%matplotlib inline\n",
    "\n",
    "sns.set(font_scale=1.3)\n",
    "mpl.rcParams['figure.figsize'] = 20, 12\n",
    "sns.set_style('whitegrid')\n",
    "sns.set_palette(sns.color_palette('muted'))\n",
    "\n",
    "linewidth = 1.0\n",
    "dotsize = 15"
   ]
  },
  {
   "cell_type": "markdown",
   "metadata": {},
   "source": [
    "# Define Parameters"
   ]
  },
  {
   "cell_type": "code",
   "execution_count": 2,
   "metadata": {
    "collapsed": true
   },
   "outputs": [],
   "source": [
    "SPLIT_TEST_SIZE = 0.2\n",
    "\n",
    "AUG_ROT_RNG = 0.05\n",
    "AUG_W_SHIFT_RNG = .05\n",
    "AUG_H_SHIFT_RNG = .05\n",
    "AUG_SHEAR_RNG = .0\n",
    "AUG_ZOOM_RNG = .05\n",
    "AUG_CH_SHIFT_RNG = .0\n",
    "AUG_FILL_MODE = 'wrap'\n",
    "AUG_CVAL = 0.\n",
    "AUG_H_FLIP = False\n",
    "AUG_V_FLIP = False\n",
    "AUG_SIZE_MULTIPLIER = 1"
   ]
  },
  {
   "cell_type": "markdown",
   "metadata": {},
   "source": [
    "# Load the Data and Split Train/Validation"
   ]
  },
  {
   "cell_type": "code",
   "execution_count": 3,
   "metadata": {},
   "outputs": [
    {
     "name": "stdout",
     "output_type": "stream",
     "text": [
      "1604\n"
     ]
    }
   ],
   "source": [
    "train_all_raw = pd.read_json('/media/ntfs/data/iceberg_classification/input/train.json')\n",
    "train_all_size = len(train_all_raw)\n",
    "print train_all_size"
   ]
  },
  {
   "cell_type": "code",
   "execution_count": 4,
   "metadata": {},
   "outputs": [
    {
     "data": {
      "text/plain": [
       "56"
      ]
     },
     "execution_count": 4,
     "metadata": {},
     "output_type": "execute_result"
    }
   ],
   "source": [
    "train_all_x = np.zeros((train_all_size, 75, 75, 3))\n",
    "train_all_y = np.zeros(train_all_size)\n",
    "\n",
    "for i in range(train_all_size):\n",
    "    for channel in range(2):\n",
    "        train_all_x[i, :, :, channel] = (np.asarray(train_all_raw.iloc[i, channel]).reshape(75, 75) + 50) / 50\n",
    "    train_all_x[i, :, :, 2] = np.zeros((75, 75))\n",
    "    train_all_y[i] = train_all_raw.iloc[i, 4]\n",
    "    \n",
    "del train_all_raw\n",
    "gc.collect()"
   ]
  },
  {
   "cell_type": "code",
   "execution_count": 5,
   "metadata": {},
   "outputs": [
    {
     "name": "stdout",
     "output_type": "stream",
     "text": [
      "1283\n",
      "321\n"
     ]
    }
   ],
   "source": [
    "train_x, val_x, train_y, val_y = sklearn.model_selection.train_test_split(\n",
    "                                    train_all_x,\n",
    "                                    train_all_y,\n",
    "                                    test_size=SPLIT_TEST_SIZE)\n",
    "\n",
    "del train_all_x\n",
    "del train_all_y\n",
    "gc.collect()\n",
    "\n",
    "train_size = len(train_x)\n",
    "val_size = len(val_x)\n",
    "\n",
    "print train_size\n",
    "print val_size"
   ]
  },
  {
   "cell_type": "markdown",
   "metadata": {},
   "source": [
    "# Data Augmentation"
   ]
  },
  {
   "cell_type": "code",
   "execution_count": 6,
   "metadata": {
    "collapsed": true
   },
   "outputs": [],
   "source": [
    "generator = keras.preprocessing.image.ImageDataGenerator(\n",
    "                rotation_range=AUG_ROT_RNG,\n",
    "                width_shift_range=AUG_W_SHIFT_RNG,\n",
    "                height_shift_range=AUG_H_SHIFT_RNG,\n",
    "                shear_range=AUG_SHEAR_RNG,\n",
    "                zoom_range=AUG_ZOOM_RNG,\n",
    "                channel_shift_range=AUG_CH_SHIFT_RNG,\n",
    "                fill_mode=AUG_FILL_MODE,\n",
    "                cval=AUG_CVAL,\n",
    "                horizontal_flip=AUG_H_FLIP,\n",
    "                vertical_flip=AUG_V_FLIP)\n",
    "\n",
    "flow = generator.flow(train_x, train_y, batch_size=1)"
   ]
  },
  {
   "cell_type": "code",
   "execution_count": 7,
   "metadata": {
    "collapsed": true
   },
   "outputs": [],
   "source": [
    "train_aug_size = int(train_size * (1 + AUG_SIZE_MULTIPLIER))\n",
    "\n",
    "train_aug_x = np.zeros((train_aug_size, 75, 75, 2))\n",
    "train_aug_y = np.zeros(train_aug_size)\n",
    "\n",
    "train_aug_x[:train_size, :, :, :] = train_x[:, :, :, 0:2]\n",
    "train_aug_y[:train_size] = train_y[:]\n",
    "            \n",
    "i = train_size\n",
    "for f in flow:\n",
    "    train_aug_x[i, :, :, 0:2] = f[0][0, :, :, 0:2]\n",
    "    train_aug_y[i] = f[1]\n",
    "    \n",
    "    i += 1\n",
    "    if i >= train_aug_size:\n",
    "        break"
   ]
  },
  {
   "cell_type": "markdown",
   "metadata": {},
   "source": [
    "# Create Model"
   ]
  },
  {
   "cell_type": "code",
   "execution_count": 8,
   "metadata": {},
   "outputs": [
    {
     "name": "stdout",
     "output_type": "stream",
     "text": [
      "_________________________________________________________________\n",
      "Layer (type)                 Output Shape              Param #   \n",
      "=================================================================\n",
      "conv2d_1 (Conv2D)            (None, 73, 73, 32)        608       \n",
      "_________________________________________________________________\n",
      "max_pooling2d_1 (MaxPooling2 (None, 36, 36, 32)        0         \n",
      "_________________________________________________________________\n",
      "dropout_1 (Dropout)          (None, 36, 36, 32)        0         \n",
      "_________________________________________________________________\n",
      "conv2d_2 (Conv2D)            (None, 34, 34, 32)        9248      \n",
      "_________________________________________________________________\n",
      "max_pooling2d_2 (MaxPooling2 (None, 17, 17, 32)        0         \n",
      "_________________________________________________________________\n",
      "dropout_2 (Dropout)          (None, 17, 17, 32)        0         \n",
      "_________________________________________________________________\n",
      "conv2d_3 (Conv2D)            (None, 15, 15, 32)        9248      \n",
      "_________________________________________________________________\n",
      "max_pooling2d_3 (MaxPooling2 (None, 7, 7, 32)          0         \n",
      "_________________________________________________________________\n",
      "dropout_3 (Dropout)          (None, 7, 7, 32)          0         \n",
      "_________________________________________________________________\n",
      "conv2d_4 (Conv2D)            (None, 5, 5, 32)          9248      \n",
      "_________________________________________________________________\n",
      "max_pooling2d_4 (MaxPooling2 (None, 2, 2, 32)          0         \n",
      "_________________________________________________________________\n",
      "dropout_4 (Dropout)          (None, 2, 2, 32)          0         \n",
      "_________________________________________________________________\n",
      "flatten_1 (Flatten)          (None, 128)               0         \n",
      "_________________________________________________________________\n",
      "dense_1 (Dense)              (None, 2048)              264192    \n",
      "_________________________________________________________________\n",
      "dense_2 (Dense)              (None, 1)                 2049      \n",
      "=================================================================\n",
      "Total params: 294,593\n",
      "Trainable params: 294,593\n",
      "Non-trainable params: 0\n",
      "_________________________________________________________________\n",
      "None\n"
     ]
    }
   ],
   "source": [
    "n_filters = 32\n",
    "kernel_size = (3, 3)\n",
    "max_pooling_size = (2, 2)\n",
    "dropout = 0.2\n",
    "dense_neurons = 2048\n",
    "\n",
    "model = models.Sequential()\n",
    "\n",
    "model.add(layers.Conv2D(n_filters, kernel_size, activation='relu', input_shape=(75, 75, 2)))\n",
    "model.add(layers.MaxPooling2D(max_pooling_size))\n",
    "model.add(keras.layers.Dropout(dropout))\n",
    "\n",
    "model.add(layers.Conv2D(n_filters, kernel_size, activation='relu'))\n",
    "model.add(layers.MaxPooling2D(max_pooling_size))\n",
    "model.add(keras.layers.Dropout(dropout))\n",
    "\n",
    "model.add(layers.Conv2D(n_filters, kernel_size, activation='relu'))\n",
    "model.add(layers.MaxPooling2D(max_pooling_size))\n",
    "model.add(keras.layers.Dropout(dropout))\n",
    "\n",
    "model.add(layers.Conv2D(n_filters, kernel_size, activation='relu'))\n",
    "model.add(layers.MaxPooling2D(max_pooling_size))\n",
    "model.add(keras.layers.Dropout(dropout))\n",
    "\n",
    "model.add(keras.layers.Flatten())\n",
    "\n",
    "model.add(keras.layers.Dense(dense_neurons, activation='tanh'))\n",
    "model.add(keras.layers.Dense(1, activation='sigmoid'))\n",
    "\n",
    "print model.summary()\n",
    "\n",
    "model.compile(optimizer='adam',\n",
    "              loss='binary_crossentropy',\n",
    "              metrics=['accuracy'])"
   ]
  },
  {
   "cell_type": "markdown",
   "metadata": {},
   "source": [
    "# Train and Evaluate"
   ]
  },
  {
   "cell_type": "code",
   "execution_count": 9,
   "metadata": {},
   "outputs": [
    {
     "name": "stdout",
     "output_type": "stream",
     "text": [
      "avg val acc.: 0.8586\n",
      "log loss: 0.3435\n"
     ]
    },
    {
     "data": {
      "image/png": "[encoded data removed]",
      "text/plain": [
       "<matplotlib.figure.Figure at 0x7f5b60c3e090>"
      ]
     },
     "metadata": {},
     "output_type": "display_data"
    }
   ],
   "source": [
    "epochs = 30\n",
    "batch_size = 16\n",
    "t_x = train_aug_x\n",
    "t_y = train_aug_y\n",
    "v_x = val_x[:, :, :, 0:2]\n",
    "v_y = val_y\n",
    "\n",
    "history = model.fit(\n",
    "            x=t_x,\n",
    "            y=t_y,\n",
    "            epochs=epochs,\n",
    "            validation_data=(v_x, v_y),\n",
    "            batch_size=batch_size,\n",
    "            verbose=0)\n",
    "\n",
    "acc = history.history['acc']\n",
    "val_acc = history.history['val_acc']\n",
    "\n",
    "print 'avg val acc.: {0:0.4f}'.format(np.average(val_acc[-10:]))\n",
    "\n",
    "p = model.predict(v_x)\n",
    "print 'log loss: {0:0.4f}'.format(sklearn.metrics.log_loss(v_y, p))\n",
    "\n",
    "eps = range(len(acc))\n",
    "\n",
    "_ = plt.plot(eps, acc, 'bo-', label='Train Accuracy', linewidth=linewidth, alpha=0.3)\n",
    "_ = plt.plot(eps, val_acc, 'ro-', label='Validation Accuracy', linewidth=2*linewidth)\n",
    "\n",
    "_ = plt.xlabel('Epochs')\n",
    "_ = plt.ylabel('Accuracy')\n",
    "\n",
    "_ = plt.xlim((0, epochs))\n",
    "_ = plt.ylim((0, 1))\n",
    "\n",
    "_ = plt.legend()"
   ]
  }
 ],
 "metadata": {
  "kernelspec": {
   "display_name": "Python 2",
   "language": "python",
   "name": "python2"
  },
  "language_info": {
   "codemirror_mode": {
    "name": "ipython",
    "version": 2
   },
   "file_extension": ".py",
   "mimetype": "text/x-python",
   "name": "python",
   "nbconvert_exporter": "python",
   "pygments_lexer": "ipython2",
   "version": "2.7.12"
  }
 },
 "nbformat": 4,
 "nbformat_minor": 2
}
