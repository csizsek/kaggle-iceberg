{
  "cells": [
    {
      "metadata": {
        "_uuid": "14112d83eff81bcfed3d8b0fdf8b4fc37af7d92b",
        "_cell_guid": "003a34b4-ea58-413c-8ee5-dda6c041ded7",
        "trusted": false,
        "collapsed": true
      },
      "cell_type": "code",
      "source": "import numpy as np # linear algebra\nnp.random.seed(666)\nimport pandas as pd # data processing, CSV file I/O (e.g. pd.read_csv)\nfrom sklearn.model_selection import train_test_split\nfrom subprocess import check_output\nprint(check_output([\"ls\", \"../input\"]).decode(\"utf8\"))",
      "execution_count": 2,
      "outputs": []
    },
    {
      "metadata": {
        "_uuid": "4b01d4e424cec7956507f5ac8179049bcd2f0235",
        "_cell_guid": "29a5f133-81c7-486a-82c7-5e643b648e22",
        "trusted": false,
        "collapsed": true
      },
      "cell_type": "code",
      "source": "#Load data\ntrain = pd.read_json(\"../input/train.json\")\ntest = pd.read_json(\"../input/test.json\")\ntrain.inc_angle = train.inc_angle.replace('na', 0)\ntrain.inc_angle = train.inc_angle.astype(float).fillna(0.0)\nprint(\"done!\")",
      "execution_count": 3,
      "outputs": []
    },
    {
      "metadata": {
        "_uuid": "b2eb784dbc8a40a145c5cdad2f6ca929e165ce95",
        "_cell_guid": "2a419a87-0630-4794-8e5b-dff560d2d116",
        "trusted": false,
        "collapsed": true
      },
      "cell_type": "code",
      "source": "# Train data\nx_band1 = np.array([np.array(band).astype(np.float32).reshape(75, 75) for band in train[\"band_1\"]])\nx_band2 = np.array([np.array(band).astype(np.float32).reshape(75, 75) for band in train[\"band_2\"]])\nX_train = np.concatenate([x_band1[:, :, :, np.newaxis]\n                          , x_band2[:, :, :, np.newaxis]\n                         , ((x_band1+x_band1)/2)[:, :, :, np.newaxis]], axis=-1)\nX_angle_train = np.array(train.inc_angle)\ny_train = np.array(train[\"is_iceberg\"])\n\n# Test data\nx_band1 = np.array([np.array(band).astype(np.float32).reshape(75, 75) for band in test[\"band_1\"]])\nx_band2 = np.array([np.array(band).astype(np.float32).reshape(75, 75) for band in test[\"band_2\"]])\nX_test = np.concatenate([x_band1[:, :, :, np.newaxis]\n                          , x_band2[:, :, :, np.newaxis]\n                         , ((x_band1+x_band1)/2)[:, :, :, np.newaxis]], axis=-1)\nX_angle_test = np.array(test.inc_angle)\n\n\nX_train, X_valid, X_angle_train, X_angle_valid, y_train, y_valid = train_test_split(X_train\n                    , X_angle_train, y_train, random_state=123, train_size=0.75)",
      "execution_count": 4,
      "outputs": []
    },
    {
      "metadata": {
        "_uuid": "d5787df36f2640ba2ae57dad49dc78b7c2a8f8b3",
        "_cell_guid": "48694991-a0af-4e4a-86c9-9e6a106ac21d",
        "trusted": false,
        "collapsed": true
      },
      "cell_type": "code",
      "source": "from matplotlib import pyplot\nfrom keras.preprocessing.image import ImageDataGenerator\nfrom keras.models import Sequential\nfrom keras.layers import Conv2D, MaxPooling2D, Dense, Dropout, Input, Flatten\nfrom keras.layers import GlobalMaxPooling2D\nfrom keras.layers.normalization import BatchNormalization\nfrom keras.layers.merge import Concatenate\nfrom keras.models import Model\nfrom keras.optimizers import Adam\nfrom keras.callbacks import ModelCheckpoint, Callback, EarlyStopping\n\ndef get_callbacks(filepath, patience=2):\n    es = EarlyStopping('val_loss', patience=patience, mode=\"min\")\n    msave = ModelCheckpoint(filepath, save_best_only=True)\n    return [es, msave]\n    \ndef get_model():\n    bn_model = 0\n    p_activation = \"elu\"\n    input_1 = Input(shape=(75, 75, 3), name=\"X_1\")\n    input_2 = Input(shape=[1], name=\"angle\")\n    \n    img_1 = Conv2D(16, kernel_size = (3,3), activation=p_activation) ((BatchNormalization(momentum=bn_model))(input_1))\n    img_1 = Conv2D(16, kernel_size = (3,3), activation=p_activation) (img_1)\n    img_1 = MaxPooling2D((2,2)) (img_1)\n    img_1 = Dropout(0.2)(img_1)\n    img_1 = Conv2D(32, kernel_size = (3,3), activation=p_activation) (img_1)\n    img_1 = Conv2D(32, kernel_size = (3,3), activation=p_activation) (img_1)\n    img_1 = MaxPooling2D((2,2)) (img_1)\n    img_1 = Dropout(0.2)(img_1)\n    img_1 = Conv2D(64, kernel_size = (3,3), activation=p_activation) (img_1)\n    img_1 = Conv2D(64, kernel_size = (3,3), activation=p_activation) (img_1)\n    img_1 = MaxPooling2D((2,2)) (img_1)\n    img_1 = Dropout(0.2)(img_1)\n    img_1 = Conv2D(128, kernel_size = (3,3), activation=p_activation) (img_1)\n    img_1 = MaxPooling2D((2,2)) (img_1)\n    img_1 = Dropout(0.2)(img_1)\n    img_1 = GlobalMaxPooling2D() (img_1)\n    \n    \n    img_2 = Conv2D(128, kernel_size = (3,3), activation=p_activation) ((BatchNormalization(momentum=bn_model))(input_1))\n    img_2 = MaxPooling2D((2,2)) (img_2)\n    img_2 = Dropout(0.2)(img_2)\n    img_2 = GlobalMaxPooling2D() (img_2)\n    \n    img_concat =  (Concatenate()([img_1, img_2, BatchNormalization(momentum=bn_model)(input_2)]))\n    \n    dense_ayer = Dropout(0.5) (BatchNormalization(momentum=bn_model) ( Dense(256, activation=p_activation)(img_concat) ))\n    dense_ayer = Dropout(0.5) (BatchNormalization(momentum=bn_model) ( Dense(64, activation=p_activation)(dense_ayer) ))\n    output = Dense(1, activation=\"sigmoid\")(dense_ayer)\n    \n    model = Model([input_1,input_2],  output)\n    optimizer = Adam(lr=0.001, beta_1=0.9, beta_2=0.999, epsilon=1e-08, decay=0.0)\n    model.compile(loss=\"binary_crossentropy\", optimizer=optimizer, metrics=[\"accuracy\"])\n    return model\nmodel = get_model()\nmodel.summary()",
      "execution_count": 5,
      "outputs": []
    },
    {
      "metadata": {
        "_uuid": "7397f8e25535660a8149786218f0cc54070ddb7b",
        "_cell_guid": "ed3d20e2-9cd3-4aad-9664-c7f3c485cc1e",
        "trusted": false,
        "collapsed": true
      },
      "cell_type": "code",
      "source": "file_path = \".model_weights.hdf5\"\ncallbacks = get_callbacks(filepath=file_path, patience=5)\n\nmodel = get_model()\nmodel.fit([X_train, X_angle_train], y_train, epochs=25\n          , validation_data=([X_valid, X_angle_valid], y_valid)\n         , batch_size=32\n         , callbacks=callbacks)",
      "execution_count": 6,
      "outputs": []
    },
    {
      "metadata": {
        "_uuid": "f16cda9020fb9e07cb3325ba05061b786e603626",
        "_cell_guid": "aacdccc7-760d-4433-8a6f-554d357722fd",
        "trusted": false,
        "collapsed": true
      },
      "cell_type": "code",
      "source": "model.load_weights(filepath=file_path)\n\nprint(\"Train evaluate:\")\nprint(model.evaluate([X_train, X_angle_train], y_train, verbose=1, batch_size=200))\nprint(\"####################\")\nprint(\"watch list evaluate:\")\nprint(model.evaluate([X_valid, X_angle_valid], y_valid, verbose=1, batch_size=200))",
      "execution_count": 7,
      "outputs": []
    },
    {
      "metadata": {
        "_uuid": "df1410c2fb4d4f124ba89602b3f669de7018728a",
        "_cell_guid": "78dbcf6c-a7ba-49c7-a459-20bed13a2219",
        "trusted": false,
        "collapsed": true
      },
      "cell_type": "code",
      "source": "prediction = model.predict([X_test, X_angle_test], verbose=1, batch_size=200)",
      "execution_count": 8,
      "outputs": []
    },
    {
      "metadata": {
        "_uuid": "a656b27ff563fd4e69c43393280b9227e44aac74",
        "_cell_guid": "52766228-cf82-4cc8-9671-d8391d294bbb",
        "trusted": false,
        "collapsed": true
      },
      "cell_type": "code",
      "source": "submission = pd.DataFrame({'id': test[\"id\"], 'is_iceberg': prediction.reshape((prediction.shape[0]))})\nsubmission.head(10)",
      "execution_count": 9,
      "outputs": []
    },
    {
      "metadata": {
        "collapsed": true,
        "_uuid": "53646935d88ffa854e33aeb583c6d5c475e9380b",
        "_cell_guid": "da4a9987-2589-48b3-bfd1-5e2076f74f0c",
        "trusted": false
      },
      "cell_type": "code",
      "source": "submission.to_csv(\"./submission.csv\", index=False)",
      "execution_count": 10,
      "outputs": []
    },
    {
      "metadata": {
        "collapsed": true,
        "_uuid": "321d861514ebae2d61817486dc3508dd350a047b",
        "_cell_guid": "2732f6a8-745c-49df-898b-8a55d22b0227"
      },
      "cell_type": "markdown",
      "source": "Any comment will be welcome! ;)"
    }
  ],
  "metadata": {
    "kernelspec": {
      "display_name": "Python 3",
      "language": "python",
      "name": "python3"
    },
    "language_info": {
      "codemirror_mode": {
        "version": 3,
        "name": "ipython"
      },
      "name": "python",
      "nbconvert_exporter": "python",
      "mimetype": "text/x-python",
      "version": "3.6.3",
      "pygments_lexer": "ipython3",
      "file_extension": ".py"
    }
  },
  "nbformat": 4,
  "nbformat_minor": 1
}