{
 "cells": [
  {
   "cell_type": "code",
   "execution_count": 1,
   "metadata": {},
   "outputs": [
    {
     "name": "stderr",
     "output_type": "stream",
     "text": [
      "Using TensorFlow backend.\n",
      "/usr/local/lib/python2.7/dist-packages/sklearn/cross_validation.py:44: DeprecationWarning: This module was deprecated in version 0.18 in favor of the model_selection module into which all the refactored classes and functions are moved. Also note that the interface of the new CV iterators are different from that of this module. This module will be removed in 0.20.\n",
      "  \"This module will be removed in 0.20.\", DeprecationWarning)\n",
      "/usr/local/lib/python2.7/dist-packages/sklearn/grid_search.py:43: DeprecationWarning: This module was deprecated in version 0.18 in favor of the model_selection module into which all the refactored classes and functions are moved. This module will be removed in 0.20.\n",
      "  DeprecationWarning)\n",
      "/usr/local/lib/python2.7/dist-packages/sklearn/lda.py:6: DeprecationWarning: lda.LDA has been moved to discriminant_analysis.LinearDiscriminantAnalysis in 0.17 and will be removed in 0.19\n",
      "  \"in 0.17 and will be removed in 0.19\", DeprecationWarning)\n",
      "/usr/local/lib/python2.7/dist-packages/sklearn/learning_curve.py:23: DeprecationWarning: This module was deprecated in version 0.18 in favor of the model_selection module into which all the functions are moved. This module will be removed in 0.20\n",
      "  DeprecationWarning)\n",
      "/usr/local/lib/python2.7/dist-packages/sklearn/qda.py:6: DeprecationWarning: qda.QDA has been moved to discriminant_analysis.QuadraticDiscriminantAnalysis in 0.17 and will be removed in 0.19.\n",
      "  \"in 0.17 and will be removed in 0.19.\", DeprecationWarning)\n"
     ]
    }
   ],
   "source": [
    "import base64\n",
    "import collections\n",
    "import copy\n",
    "import cProfile\n",
    "import datetime\n",
    "import gc\n",
    "import itertools\n",
    "import json\n",
    "import math\n",
    "import os\n",
    "import operator\n",
    "import pickle\n",
    "import random\n",
    "import re\n",
    "import shutil\n",
    "import sys\n",
    "import time\n",
    "\n",
    "import bokeh\n",
    "import cv2\n",
    "import hyperopt\n",
    "from hyperopt import hp\n",
    "import Image\n",
    "import keras\n",
    "from keras import *\n",
    "from keras import backend as K\n",
    "from keras.preprocessing import image\n",
    "from keras.preprocessing.image import ImageDataGenerator\n",
    "import matplotlib as mpl\n",
    "import matplotlib.pyplot as plt\n",
    "import numpy as np\n",
    "import pandas as pd\n",
    "import PIL as pil\n",
    "import prophet\n",
    "import pyflux\n",
    "import pylab\n",
    "import scipy\n",
    "from scipy import signal\n",
    "import seaborn as sns\n",
    "import skimage\n",
    "import sklearn\n",
    "from sklearn import *\n",
    "import statsmodels as sm\n",
    "import tensorflow as tf\n",
    "import tqdm\n",
    "\n",
    "np.random.seed(1337)\n",
    "\n",
    "%matplotlib inline\n",
    "\n",
    "sns.set(font_scale=1.3)\n",
    "mpl.rcParams['figure.figsize'] = 20, 12\n",
    "sns.set_style('whitegrid')\n",
    "sns.set_palette(sns.color_palette('muted'))\n",
    "\n",
    "linewidth = 1.0\n",
    "dotsize = 15"
   ]
  },
  {
   "cell_type": "code",
   "execution_count": 2,
   "metadata": {},
   "outputs": [
    {
     "name": "stdout",
     "output_type": "stream",
     "text": [
      "1604\n"
     ]
    },
    {
     "data": {
      "text/plain": [
       "56"
      ]
     },
     "execution_count": 2,
     "metadata": {},
     "output_type": "execute_result"
    }
   ],
   "source": [
    "train_raw = pd.read_json('/media/ntfs/data/iceberg_classification/input/train.json')\n",
    "train_size = len(train_raw)\n",
    "print train_size\n",
    "\n",
    "train_x = np.zeros((train_size, 75, 75, 2))\n",
    "train_y = np.zeros(train_size)\n",
    "\n",
    "for i in range(train_size):\n",
    "    for channel in range(2):\n",
    "        train_x[i, :, :, channel] = (np.asarray(train_raw.iloc[i, channel]).reshape(75, 75) + 50) / 50\n",
    "    train_y[i] = train_raw.iloc[i, 4]\n",
    "    \n",
    "del train_raw\n",
    "gc.collect()"
   ]
  },
  {
   "cell_type": "code",
   "execution_count": 3,
   "metadata": {},
   "outputs": [
    {
     "name": "stdout",
     "output_type": "stream",
     "text": [
      "8424\n"
     ]
    },
    {
     "data": {
      "text/plain": [
       "67"
      ]
     },
     "execution_count": 3,
     "metadata": {},
     "output_type": "execute_result"
    }
   ],
   "source": [
    "test_raw = pd.read_json('/media/ntfs/data/iceberg_classification/input/test.json')\n",
    "test_size = len(test_raw)\n",
    "print test_size\n",
    "\n",
    "test_x = np.zeros((test_size, 75, 75, 2))\n",
    "\n",
    "for i in range(test_size):\n",
    "    for channel in range(2):\n",
    "        test_x[i, :, :, channel] = (np.asarray(test_raw.iloc[i, channel]).reshape(75, 75) + 50) / 50\n",
    "        \n",
    "test_ids = test_raw[['id']].copy()\n",
    "\n",
    "del test_raw\n",
    "gc.collect()"
   ]
  },
  {
   "cell_type": "code",
   "execution_count": 5,
   "metadata": {},
   "outputs": [],
   "source": [
    "def create_model(\n",
    "        kernel_size,\n",
    "    \n",
    "        n_filters_input,\n",
    "        activation_input,\n",
    "        max_pooling_size_input,\n",
    "        dropout_input,\n",
    "    \n",
    "        n_conv_layers,\n",
    "        n_filters_conv,\n",
    "        activation_conv,\n",
    "        max_pooling_size_conv,\n",
    "        dropout_conv,\n",
    "    \n",
    "        n_dense_layers,\n",
    "        n_dense_neurons,\n",
    "        activation_dense,\n",
    "        dropout_dense,\n",
    "    \n",
    "        optimizer,\n",
    "        loss):\n",
    "    \n",
    "    model = models.Sequential()\n",
    "\n",
    "    # input layer\n",
    "    model.add(layers.Conv2D(\n",
    "                n_filters_input,\n",
    "                (kernel_size, kernel_size),\n",
    "                activation=activation_input,\n",
    "                input_shape=(75, 75, 2)))\n",
    "    model.add(layers.MaxPooling2D((max_pooling_size_input, max_pooling_size_input), dim_ordering='th'))\n",
    "    model.add(keras.layers.Dropout(dropout_input))\n",
    "    \n",
    "    # conv layers\n",
    "    for i in range(n_conv_layers):\n",
    "        model.add(layers.Conv2D(\n",
    "                    n_filters_conv,\n",
    "                    (kernel_size, kernel_size),\n",
    "                    activation=activation_conv))\n",
    "        model.add(layers.MaxPooling2D((max_pooling_size_conv, max_pooling_size_conv), dim_ordering='th'))\n",
    "        model.add(keras.layers.Dropout(dropout_conv))\n",
    "\n",
    "    model.add(keras.layers.Flatten())\n",
    "        \n",
    "    # dense layers\n",
    "    for i in range(n_dense_layers):\n",
    "        model.add(keras.layers.Dense(n_dense_neurons, activation=activation_dense))\n",
    "        model.add(keras.layers.Dropout(dropout_dense))\n",
    "    \n",
    "    #sigmoid layer\n",
    "    model.add(keras.layers.Dense(1, activation='sigmoid'))\n",
    "\n",
    "    model.compile(optimizer=optimizer,\n",
    "                  loss=loss,\n",
    "                  metrics=['accuracy'])\n",
    "    \n",
    "    return model"
   ]
  },
  {
   "cell_type": "code",
   "execution_count": 6,
   "metadata": {
    "collapsed": true
   },
   "outputs": [],
   "source": [
    "model = create_model(\n",
    "            kernel_size=3,\n",
    "    \n",
    "            n_filters_input=16,\n",
    "            activation_input='tanh',\n",
    "            max_pooling_size_input=2,\n",
    "            dropout_input=0.3,\n",
    "\n",
    "            n_conv_layers=2,\n",
    "            n_filters_conv=128,\n",
    "            activation_conv='relu',\n",
    "            max_pooling_size_conv=2,\n",
    "            dropout_conv=0.6,\n",
    "\n",
    "            n_dense_layers=2,\n",
    "            n_dense_neurons=128,\n",
    "            activation_dense='relu',\n",
    "            dropout_dense=0.3,\n",
    "\n",
    "            optimizer='rmsprop',\n",
    "            loss='binary_crossentropy')"
   ]
  },
  {
   "cell_type": "code",
   "execution_count": 7,
   "metadata": {},
   "outputs": [
    {
     "data": {
      "text/plain": [
       "<keras.callbacks.History at 0x7efe0a183290>"
      ]
     },
     "execution_count": 7,
     "metadata": {},
     "output_type": "execute_result"
    }
   ],
   "source": [
    "model.fit(\n",
    "        x=train_x,\n",
    "        y=train_y,\n",
    "        epochs=60,\n",
    "        batch_size=16,\n",
    "        verbose=0)"
   ]
  },
  {
   "cell_type": "code",
   "execution_count": 9,
   "metadata": {
    "collapsed": true
   },
   "outputs": [],
   "source": [
    "preds = model.predict(test_x)"
   ]
  },
  {
   "cell_type": "code",
   "execution_count": 19,
   "metadata": {},
   "outputs": [
    {
     "data": {
      "text/html": [
       "<div>\n",
       "<style>\n",
       "    .dataframe thead tr:only-child th {\n",
       "        text-align: right;\n",
       "    }\n",
       "\n",
       "    .dataframe thead th {\n",
       "        text-align: left;\n",
       "    }\n",
       "\n",
       "    .dataframe tbody tr th {\n",
       "        vertical-align: top;\n",
       "    }\n",
       "</style>\n",
       "<table border=\"1\" class=\"dataframe\">\n",
       "  <thead>\n",
       "    <tr style=\"text-align: right;\">\n",
       "      <th></th>\n",
       "      <th>id</th>\n",
       "      <th>is_iceberg</th>\n",
       "    </tr>\n",
       "  </thead>\n",
       "  <tbody>\n",
       "    <tr>\n",
       "      <th>0</th>\n",
       "      <td>5941774d</td>\n",
       "      <td>2.645342e-02</td>\n",
       "    </tr>\n",
       "    <tr>\n",
       "      <th>1</th>\n",
       "      <td>4023181e</td>\n",
       "      <td>4.945017e-01</td>\n",
       "    </tr>\n",
       "    <tr>\n",
       "      <th>2</th>\n",
       "      <td>b20200e4</td>\n",
       "      <td>9.744549e-03</td>\n",
       "    </tr>\n",
       "    <tr>\n",
       "      <th>3</th>\n",
       "      <td>e7f018bb</td>\n",
       "      <td>9.961261e-01</td>\n",
       "    </tr>\n",
       "    <tr>\n",
       "      <th>4</th>\n",
       "      <td>4371c8c3</td>\n",
       "      <td>4.398057e-01</td>\n",
       "    </tr>\n",
       "    <tr>\n",
       "      <th>5</th>\n",
       "      <td>a8d9b1fd</td>\n",
       "      <td>3.227885e-03</td>\n",
       "    </tr>\n",
       "    <tr>\n",
       "      <th>6</th>\n",
       "      <td>29e7727e</td>\n",
       "      <td>1.560408e-01</td>\n",
       "    </tr>\n",
       "    <tr>\n",
       "      <th>7</th>\n",
       "      <td>92a51ffb</td>\n",
       "      <td>9.998199e-01</td>\n",
       "    </tr>\n",
       "    <tr>\n",
       "      <th>8</th>\n",
       "      <td>c769ac97</td>\n",
       "      <td>5.312380e-07</td>\n",
       "    </tr>\n",
       "    <tr>\n",
       "      <th>9</th>\n",
       "      <td>aee0547d</td>\n",
       "      <td>8.188709e-08</td>\n",
       "    </tr>\n",
       "    <tr>\n",
       "      <th>10</th>\n",
       "      <td>565b28ac</td>\n",
       "      <td>2.408079e-09</td>\n",
       "    </tr>\n",
       "    <tr>\n",
       "      <th>11</th>\n",
       "      <td>e04e9775</td>\n",
       "      <td>4.777569e-01</td>\n",
       "    </tr>\n",
       "    <tr>\n",
       "      <th>12</th>\n",
       "      <td>8e8161d1</td>\n",
       "      <td>1.297728e-04</td>\n",
       "    </tr>\n",
       "    <tr>\n",
       "      <th>13</th>\n",
       "      <td>4cf4d256</td>\n",
       "      <td>4.995706e-01</td>\n",
       "    </tr>\n",
       "    <tr>\n",
       "      <th>14</th>\n",
       "      <td>139e5324</td>\n",
       "      <td>5.182222e-01</td>\n",
       "    </tr>\n",
       "    <tr>\n",
       "      <th>15</th>\n",
       "      <td>f156976f</td>\n",
       "      <td>6.984839e-05</td>\n",
       "    </tr>\n",
       "    <tr>\n",
       "      <th>16</th>\n",
       "      <td>68a117cc</td>\n",
       "      <td>2.288201e-02</td>\n",
       "    </tr>\n",
       "    <tr>\n",
       "      <th>17</th>\n",
       "      <td>d9aa7a56</td>\n",
       "      <td>1.162290e-04</td>\n",
       "    </tr>\n",
       "    <tr>\n",
       "      <th>18</th>\n",
       "      <td>9005b143</td>\n",
       "      <td>5.012620e-01</td>\n",
       "    </tr>\n",
       "    <tr>\n",
       "      <th>19</th>\n",
       "      <td>5f6d3988</td>\n",
       "      <td>6.384169e-01</td>\n",
       "    </tr>\n",
       "  </tbody>\n",
       "</table>\n",
       "</div>"
      ],
      "text/plain": [
       "          id    is_iceberg\n",
       "0   5941774d  2.645342e-02\n",
       "1   4023181e  4.945017e-01\n",
       "2   b20200e4  9.744549e-03\n",
       "3   e7f018bb  9.961261e-01\n",
       "4   4371c8c3  4.398057e-01\n",
       "5   a8d9b1fd  3.227885e-03\n",
       "6   29e7727e  1.560408e-01\n",
       "7   92a51ffb  9.998199e-01\n",
       "8   c769ac97  5.312380e-07\n",
       "9   aee0547d  8.188709e-08\n",
       "10  565b28ac  2.408079e-09\n",
       "11  e04e9775  4.777569e-01\n",
       "12  8e8161d1  1.297728e-04\n",
       "13  4cf4d256  4.995706e-01\n",
       "14  139e5324  5.182222e-01\n",
       "15  f156976f  6.984839e-05\n",
       "16  68a117cc  2.288201e-02\n",
       "17  d9aa7a56  1.162290e-04\n",
       "18  9005b143  5.012620e-01\n",
       "19  5f6d3988  6.384169e-01"
      ]
     },
     "execution_count": 19,
     "metadata": {},
     "output_type": "execute_result"
    }
   ],
   "source": [
    "sub = pd.DataFrame({'id': test_ids.id, 'is_iceberg': preds[:, 0]}, index=range(len(test_ids)))\n",
    "sub.head(20)"
   ]
  },
  {
   "cell_type": "code",
   "execution_count": 21,
   "metadata": {
    "collapsed": true
   },
   "outputs": [],
   "source": [
    "sub.to_csv('/media/ntfs/data/iceberg_classification/output/sub_cnn_hyperopt_arch_001', index=False)"
   ]
  },
  {
   "cell_type": "code",
   "execution_count": null,
   "metadata": {},
   "outputs": [],
   "source": []
  }
 ],
 "metadata": {
  "kernelspec": {
   "display_name": "Python 2",
   "language": "python",
   "name": "python2"
  },
  "language_info": {
   "codemirror_mode": {
    "name": "ipython",
    "version": 2
   },
   "file_extension": ".py",
   "mimetype": "text/x-python",
   "name": "python",
   "nbconvert_exporter": "python",
   "pygments_lexer": "ipython2",
   "version": "2.7.12"
  }
 },
 "nbformat": 4,
 "nbformat_minor": 2
}
