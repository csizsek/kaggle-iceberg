{
 "cells": [
  {
   "cell_type": "code",
   "execution_count": 1,
   "metadata": {},
   "outputs": [
    {
     "name": "stderr",
     "output_type": "stream",
     "text": [
      "Using TensorFlow backend.\n",
      "/usr/local/lib/python2.7/dist-packages/sklearn/cross_validation.py:44: DeprecationWarning: This module was deprecated in version 0.18 in favor of the model_selection module into which all the refactored classes and functions are moved. Also note that the interface of the new CV iterators are different from that of this module. This module will be removed in 0.20.\n",
      "  \"This module will be removed in 0.20.\", DeprecationWarning)\n",
      "/usr/local/lib/python2.7/dist-packages/sklearn/grid_search.py:43: DeprecationWarning: This module was deprecated in version 0.18 in favor of the model_selection module into which all the refactored classes and functions are moved. This module will be removed in 0.20.\n",
      "  DeprecationWarning)\n",
      "/usr/local/lib/python2.7/dist-packages/sklearn/lda.py:6: DeprecationWarning: lda.LDA has been moved to discriminant_analysis.LinearDiscriminantAnalysis in 0.17 and will be removed in 0.19\n",
      "  \"in 0.17 and will be removed in 0.19\", DeprecationWarning)\n",
      "/usr/local/lib/python2.7/dist-packages/sklearn/learning_curve.py:23: DeprecationWarning: This module was deprecated in version 0.18 in favor of the model_selection module into which all the functions are moved. This module will be removed in 0.20\n",
      "  DeprecationWarning)\n",
      "/usr/local/lib/python2.7/dist-packages/sklearn/qda.py:6: DeprecationWarning: qda.QDA has been moved to discriminant_analysis.QuadraticDiscriminantAnalysis in 0.17 and will be removed in 0.19.\n",
      "  \"in 0.17 and will be removed in 0.19.\", DeprecationWarning)\n"
     ]
    }
   ],
   "source": [
    "import base64\n",
    "import collections\n",
    "import copy\n",
    "import cProfile\n",
    "import datetime\n",
    "import itertools\n",
    "import json\n",
    "import math\n",
    "import os\n",
    "import operator\n",
    "import pickle\n",
    "import random\n",
    "import re\n",
    "import shutil\n",
    "import sys\n",
    "import time\n",
    "\n",
    "import bokeh\n",
    "import cv2\n",
    "import Image\n",
    "import keras\n",
    "from keras import *\n",
    "from keras import backend as K\n",
    "from keras.preprocessing import image\n",
    "from keras.preprocessing.image import ImageDataGenerator\n",
    "import matplotlib as mpl\n",
    "import matplotlib.pyplot as plt\n",
    "import numpy as np\n",
    "import pandas as pd\n",
    "import PIL as pil\n",
    "import prophet\n",
    "import pyflux\n",
    "import pylab\n",
    "import scipy\n",
    "import seaborn as sns\n",
    "import skimage\n",
    "import sklearn\n",
    "from sklearn import *\n",
    "import statsmodels as sm\n",
    "import tensorflow as tf\n",
    "import tqdm\n",
    "\n",
    "np.random.seed(1337)\n",
    "\n",
    "%matplotlib inline\n",
    "\n",
    "sns.set(font_scale=1.3)\n",
    "mpl.rcParams['figure.figsize'] = 20, 12\n",
    "sns.set_style('whitegrid')\n",
    "sns.set_palette(sns.color_palette('muted'))\n",
    "\n",
    "linewidth = 1.0\n",
    "dotsize = 15"
   ]
  },
  {
   "cell_type": "code",
   "execution_count": 2,
   "metadata": {},
   "outputs": [
    {
     "name": "stdout",
     "output_type": "stream",
     "text": [
      "1604\n"
     ]
    }
   ],
   "source": [
    "tr = pd.read_json('/media/ntfs/data/iceberg_classification/input/train.json')\n",
    "print len(tr)"
   ]
  },
  {
   "cell_type": "code",
   "execution_count": 3,
   "metadata": {
    "collapsed": true
   },
   "outputs": [],
   "source": [
    "tr = tr.sample(frac=1.0)"
   ]
  },
  {
   "cell_type": "code",
   "execution_count": 4,
   "metadata": {},
   "outputs": [
    {
     "name": "stdout",
     "output_type": "stream",
     "text": [
      "1203\n",
      "401\n"
     ]
    }
   ],
   "source": [
    "train_frac = 0.75\n",
    "\n",
    "n_train = int(train_frac * len(tr))\n",
    "n_val = len(tr) - n_train\n",
    "\n",
    "train = tr.head(n_train)\n",
    "print len(train)\n",
    "\n",
    "val = tr.tail(n_val)\n",
    "print len(val)"
   ]
  },
  {
   "cell_type": "code",
   "execution_count": 5,
   "metadata": {
    "collapsed": true
   },
   "outputs": [],
   "source": [
    "train_imgs = np.zeros((n_train, 75, 75, 2))\n",
    "\n",
    "for i in range(n_train):\n",
    "    for channel in range(2):\n",
    "        train_imgs[i, :, :, channel] = (np.asarray(train.iloc[i, channel]).reshape(75, 75) + 50) / 50"
   ]
  },
  {
   "cell_type": "code",
   "execution_count": 6,
   "metadata": {
    "collapsed": true
   },
   "outputs": [],
   "source": [
    "val_imgs = np.zeros((n_val, 75, 75, 2))\n",
    "\n",
    "for i in range(n_val):\n",
    "    for channel in range(2):\n",
    "        val_imgs[i, :, :, channel] = (np.asarray(val.iloc[i, channel]).reshape(75, 75) + 50) / 50"
   ]
  },
  {
   "cell_type": "code",
   "execution_count": 7,
   "metadata": {},
   "outputs": [
    {
     "data": {
      "text/plain": [
       "array([[[[ 0.71675832,  0.56956756],\n",
       "         [ 0.75798558,  0.50966182]],\n",
       "\n",
       "        [[ 0.78925066,  0.5243518 ],\n",
       "         [ 0.69879878,  0.46305958]]],\n",
       "\n",
       "\n",
       "       [[[ 0.63257416,  0.5276632 ],\n",
       "         [ 0.77370572,  0.50507202]],\n",
       "\n",
       "        [[ 0.73209034,  0.56213764],\n",
       "         [ 0.80033752,  0.52337502]]],\n",
       "\n",
       "\n",
       "       [[[ 0.61588116,  0.48699344],\n",
       "         [ 0.5495314 ,  0.51377124]],\n",
       "\n",
       "        [[ 0.62914852,  0.5325708 ],\n",
       "         [ 0.61310074,  0.51377124]]],\n",
       "\n",
       "\n",
       "       [[[ 0.48938592,  0.45201722],\n",
       "         [ 0.51046746,  0.48938488]],\n",
       "\n",
       "        [[ 0.48938592,  0.45201722],\n",
       "         [ 0.50024574,  0.49490016]]]])"
      ]
     },
     "execution_count": 7,
     "metadata": {},
     "output_type": "execute_result"
    }
   ],
   "source": [
    "train_imgs[0:4, 32:34, 32:34, 0:2]"
   ]
  },
  {
   "cell_type": "code",
   "execution_count": 8,
   "metadata": {},
   "outputs": [
    {
     "data": {
      "text/plain": [
       "707     0\n",
       "851     0\n",
       "1210    1\n",
       "1272    0\n",
       "417     1\n",
       "1007    0\n",
       "1157    1\n",
       "1595    0\n",
       "Name: is_iceberg, dtype: int64"
      ]
     },
     "execution_count": 8,
     "metadata": {},
     "output_type": "execute_result"
    }
   ],
   "source": [
    "train.is_iceberg.head(8)"
   ]
  },
  {
   "cell_type": "code",
   "execution_count": 9,
   "metadata": {},
   "outputs": [
    {
     "name": "stdout",
     "output_type": "stream",
     "text": [
      "_________________________________________________________________\n",
      "Layer (type)                 Output Shape              Param #   \n",
      "=================================================================\n",
      "conv2d_1 (Conv2D)            (None, 73, 73, 32)        608       \n",
      "_________________________________________________________________\n",
      "max_pooling2d_1 (MaxPooling2 (None, 36, 36, 32)        0         \n",
      "_________________________________________________________________\n",
      "dropout_1 (Dropout)          (None, 36, 36, 32)        0         \n",
      "_________________________________________________________________\n",
      "conv2d_2 (Conv2D)            (None, 34, 34, 32)        9248      \n",
      "_________________________________________________________________\n",
      "max_pooling2d_2 (MaxPooling2 (None, 17, 17, 32)        0         \n",
      "_________________________________________________________________\n",
      "dropout_2 (Dropout)          (None, 17, 17, 32)        0         \n",
      "_________________________________________________________________\n",
      "conv2d_3 (Conv2D)            (None, 15, 15, 32)        9248      \n",
      "_________________________________________________________________\n",
      "max_pooling2d_3 (MaxPooling2 (None, 7, 7, 32)          0         \n",
      "_________________________________________________________________\n",
      "dropout_3 (Dropout)          (None, 7, 7, 32)          0         \n",
      "_________________________________________________________________\n",
      "conv2d_4 (Conv2D)            (None, 5, 5, 32)          9248      \n",
      "_________________________________________________________________\n",
      "max_pooling2d_4 (MaxPooling2 (None, 2, 2, 32)          0         \n",
      "_________________________________________________________________\n",
      "dropout_4 (Dropout)          (None, 2, 2, 32)          0         \n",
      "_________________________________________________________________\n",
      "flatten_1 (Flatten)          (None, 128)               0         \n",
      "_________________________________________________________________\n",
      "dense_1 (Dense)              (None, 2048)              264192    \n",
      "_________________________________________________________________\n",
      "dense_2 (Dense)              (None, 1)                 2049      \n",
      "=================================================================\n",
      "Total params: 294,593\n",
      "Trainable params: 294,593\n",
      "Non-trainable params: 0\n",
      "_________________________________________________________________\n"
     ]
    }
   ],
   "source": [
    "n_filters = 32\n",
    "kernel_size = (3, 3)\n",
    "max_pooling_size = (2, 2)\n",
    "dropout = 0.2\n",
    "dense_neurons = 2048\n",
    "\n",
    "model = models.Sequential()\n",
    "\n",
    "model.add(layers.Conv2D(n_filters, kernel_size, activation='relu', input_shape=(75, 75, 2)))\n",
    "model.add(layers.MaxPooling2D(max_pooling_size))\n",
    "model.add(keras.layers.Dropout(dropout))\n",
    "\n",
    "model.add(layers.Conv2D(n_filters, kernel_size, activation='relu'))\n",
    "model.add(layers.MaxPooling2D(max_pooling_size))\n",
    "model.add(keras.layers.Dropout(dropout))\n",
    "\n",
    "model.add(layers.Conv2D(n_filters, kernel_size, activation='relu'))\n",
    "model.add(layers.MaxPooling2D(max_pooling_size))\n",
    "model.add(keras.layers.Dropout(dropout))\n",
    "\n",
    "model.add(layers.Conv2D(n_filters, kernel_size, activation='relu'))\n",
    "model.add(layers.MaxPooling2D(max_pooling_size))\n",
    "model.add(keras.layers.Dropout(dropout))\n",
    "\n",
    "model.add(keras.layers.Flatten())\n",
    "\n",
    "model.add(keras.layers.Dense(dense_neurons, activation='relu'))\n",
    "model.add(keras.layers.Dense(1, activation='sigmoid'))\n",
    "\n",
    "model.summary()"
   ]
  },
  {
   "cell_type": "code",
   "execution_count": 10,
   "metadata": {
    "collapsed": true
   },
   "outputs": [],
   "source": [
    "model.compile(optimizer='adam',\n",
    "              loss='binary_crossentropy',\n",
    "              metrics=['accuracy'])"
   ]
  },
  {
   "cell_type": "code",
   "execution_count": 11,
   "metadata": {
    "collapsed": true
   },
   "outputs": [],
   "source": [
    "epochs = 50\n",
    "batch_size = 32"
   ]
  },
  {
   "cell_type": "code",
   "execution_count": 12,
   "metadata": {
    "collapsed": true
   },
   "outputs": [],
   "source": [
    "history = model.fit(\n",
    "            x=train_imgs,\n",
    "            y=train.is_iceberg,\n",
    "            epochs=epochs,\n",
    "            validation_data=(val_imgs, val.is_iceberg),\n",
    "            batch_size=batch_size,\n",
    "            verbose=0)"
   ]
  },
  {
   "cell_type": "code",
   "execution_count": 13,
   "metadata": {},
   "outputs": [
    {
     "data": {
      "image/png": "[encoded data removed]",
      "text/plain": [
       "<matplotlib.figure.Figure at 0x7fa27744ed90>"
      ]
     },
     "metadata": {},
     "output_type": "display_data"
    }
   ],
   "source": [
    "acc = history.history['acc']\n",
    "val_acc = history.history['val_acc']\n",
    "\n",
    "eps = range(len(acc))\n",
    "\n",
    "_ = plt.plot(eps, acc, 'b', label='Train Accuracy', linewidth=linewidth)\n",
    "_ = plt.plot(eps, val_acc, 'r', label='Validation Accuracy', linewidth=linewidth)\n",
    "\n",
    "_ = plt.xlabel('Epochs')\n",
    "_ = plt.ylabel('Accuracy')\n",
    "\n",
    "_ = plt.xlim((0, epochs))\n",
    "_ = plt.ylim((0, 1))\n",
    "\n",
    "_ = plt.legend()"
   ]
  },
  {
   "cell_type": "code",
   "execution_count": 14,
   "metadata": {},
   "outputs": [
    {
     "data": {
      "text/plain": [
       "0.30095919689054479"
      ]
     },
     "execution_count": 14,
     "metadata": {},
     "output_type": "execute_result"
    }
   ],
   "source": [
    "p = model.predict(val_imgs)\n",
    "sklearn.metrics.log_loss(val.is_iceberg, p)"
   ]
  },
  {
   "cell_type": "code",
   "execution_count": null,
   "metadata": {
    "collapsed": true
   },
   "outputs": [],
   "source": []
  }
 ],
 "metadata": {
  "kernelspec": {
   "display_name": "Python 2",
   "language": "python",
   "name": "python2"
  },
  "language_info": {
   "codemirror_mode": {
    "name": "ipython",
    "version": 2
   },
   "file_extension": ".py",
   "mimetype": "text/x-python",
   "name": "python",
   "nbconvert_exporter": "python",
   "pygments_lexer": "ipython2",
   "version": "2.7.12"
  }
 },
 "nbformat": 4,
 "nbformat_minor": 2
}
